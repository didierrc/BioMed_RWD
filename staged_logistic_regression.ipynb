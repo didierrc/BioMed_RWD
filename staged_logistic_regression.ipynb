{
 "cells": [
  {
   "cell_type": "markdown",
   "id": "c99b4510",
   "metadata": {},
   "source": [
    "# BioMed: Real World Data - Staged Logistic Regression Model\n",
    "\n",
    "---\n",
    "\n",
    "**Group:**\n",
    "- González Méndez, Alvaro ()\n",
    "- Reyes Castro, Didier Yamil (didier.reyes.castro@alumnos.upm.es)\n",
    "- Rodriguez Fernández, Cristina ()\n",
    "\n",
    "**Course:** BioMedical Informatics - 2025/26\n",
    "\n",
    "**Institution:** Polytechnic University of Madrid (UPM)\n",
    "\n",
    "**Date:** October 2026\n",
    "\n",
    "---\n",
    "\n",
    "## Goals\n",
    "\n",
    "The goal of the assignment is to implement a staged logistic regression model with real-world biomedical data. The model will be used to rank LOINC documents based on their relevance to specific clinical queries."
   ]
  },
  {
   "cell_type": "markdown",
   "id": "f1ee411b",
   "metadata": {},
   "source": [
    "## 0 Setup"
   ]
  },
  {
   "cell_type": "code",
   "execution_count": null,
   "id": "f3afab43",
   "metadata": {},
   "outputs": [],
   "source": [
    "import pandas as pd\n",
    "from sklearn.linear_model import LogisticRegression"
   ]
  },
  {
   "cell_type": "markdown",
   "id": "5018fb21",
   "metadata": {},
   "source": [
    "## 1 Implementation"
   ]
  },
  {
   "cell_type": "markdown",
   "id": "7c73eced",
   "metadata": {},
   "source": [
    "### 1.1 Part A: Train First Logistic Regression Model (Intra-Clue)\n",
    "\n",
    "The elementary clues taken into account for the first stage are: TF, IDF, is_in_component and is_in_system."
   ]
  },
  {
   "cell_type": "code",
   "execution_count": null,
   "id": "a1bcc82b",
   "metadata": {},
   "outputs": [],
   "source": [
    "df_first_stage = pd.read_csv('data/first_stage_data.csv')\n",
    "\n",
    "X_first_stage = df_first_stage.drop(columns=['doc_id', 'composite', 'relevance'])\n",
    "y_first_stage = df_first_stage['relevance']"
   ]
  },
  {
   "cell_type": "code",
   "execution_count": null,
   "id": "5e8d3ad7",
   "metadata": {},
   "outputs": [],
   "source": [
    "# Logistic Regression default parameters: penalty='l2', C=1.0, solver='lbfgs'\n",
    "# solver can be changed to 'liblinear' as it is great for small datasets and binary\n",
    "# classification. Check: https://scikit-learn.org/stable/modules/generated/sklearn.linear_model.LogisticRegression.html\n",
    "log_reg_1 = LogisticRegression() \n",
    "log_reg_1.fit(X_first_stage, y_first_stage)"
   ]
  },
  {
   "cell_type": "markdown",
   "id": "b934fdbb",
   "metadata": {},
   "source": [
    "### 1.2 Part B: Generate Second-Level Dataset\n",
    "\n",
    "- Get Log-Odds from First Model (use the first dataset and predict with the model -> this will give you the log O(R/Ai) )\n",
    "- Sum up Log-Odds per Document (group by doc_id and sum the log-odds) -> Gives you the Z score per document.\n",
    "- Complete the second stage dataset with the Z score (for those documents with 0 clues (N) fill Z with 0)"
   ]
  },
  {
   "cell_type": "code",
   "execution_count": null,
   "id": "f772742e",
   "metadata": {},
   "outputs": [],
   "source": [
    "df_partial_second_stage = pd.read_csv('data/partial_second_stage_data.csv')\n",
    "\n",
    "# df_second_stage = <...>"
   ]
  },
  {
   "cell_type": "markdown",
   "id": "706e1b8d",
   "metadata": {},
   "source": [
    "### 1.3 Part C: Train Second Logistic Regression Model (Inter-Clue)"
   ]
  },
  {
   "cell_type": "code",
   "execution_count": null,
   "id": "8e87da57",
   "metadata": {},
   "outputs": [],
   "source": [
    "# X_second_stage = <...>\n",
    "# y_second_stage = <...>"
   ]
  },
  {
   "cell_type": "code",
   "execution_count": null,
   "id": "4a7f2195",
   "metadata": {},
   "outputs": [],
   "source": [
    "# train..."
   ]
  }
 ],
 "metadata": {
  "kernelspec": {
   "display_name": "rwd",
   "language": "python",
   "name": "python3"
  },
  "language_info": {
   "name": "python",
   "version": "3.13.7"
  }
 },
 "nbformat": 4,
 "nbformat_minor": 5
}
