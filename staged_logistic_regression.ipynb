{
 "cells": [
  {
   "cell_type": "markdown",
   "id": "c99b4510",
   "metadata": {},
   "source": [
    "# BioMed: Real World Data - Staged Logistic Regression Model\n",
    "\n",
    "---\n",
    "\n",
    "**Group:**\n",
    "- González Méndez, Alvaro ()\n",
    "- Reyes Castro, Didier Yamil (didier.reyes.castro@alumnos.upm.es)\n",
    "- Rodriguez Fernández, Cristina ()\n",
    "\n",
    "**Course:** BioMedical Informatics - 2025/26\n",
    "\n",
    "**Institution:** Polytechnic University of Madrid (UPM)\n",
    "\n",
    "**Date:** October 2026\n",
    "\n",
    "---\n",
    "\n",
    "## Goals\n",
    "\n",
    "The goal of the assignment is to implement a staged logistic regression model with real-world biomedical data. The model will be used to rank LOINC documents based on their relevance to specific clinical queries."
   ]
  },
  {
   "cell_type": "markdown",
   "id": "f1ee411b",
   "metadata": {},
   "source": [
    "## 0 Setup"
   ]
  },
  {
   "cell_type": "code",
   "execution_count": null,
   "id": "f3afab43",
   "metadata": {
    "vscode": {
     "languageId": "plaintext"
    }
   },
   "outputs": [],
   "source": []
  },
  {
   "cell_type": "markdown",
   "id": "5018fb21",
   "metadata": {},
   "source": [
    "## 1 Implementation"
   ]
  },
  {
   "cell_type": "code",
   "execution_count": null,
   "id": "a1bcc82b",
   "metadata": {
    "vscode": {
     "languageId": "plaintext"
    }
   },
   "outputs": [],
   "source": []
  }
 ],
 "metadata": {
  "language_info": {
   "name": "python"
  }
 },
 "nbformat": 4,
 "nbformat_minor": 5
}
